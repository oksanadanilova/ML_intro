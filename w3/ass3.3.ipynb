{
 "cells": [
  {
   "cell_type": "code",
   "execution_count": 1,
   "metadata": {
    "collapsed": true
   },
   "outputs": [],
   "source": [
    "import numpy as np\n",
    "import pandas as pd\n",
    "from sklearn.metrics import roc_auc_score\n",
    "from math import exp"
   ]
  },
  {
   "cell_type": "code",
   "execution_count": 2,
   "metadata": {
    "collapsed": true
   },
   "outputs": [],
   "source": [
    "data = pd.read_csv('data-logistic.csv', names=['y', 'x1', 'x2'])"
   ]
  },
  {
   "cell_type": "code",
   "execution_count": 3,
   "metadata": {
    "collapsed": false
   },
   "outputs": [
    {
     "data": {
      "text/html": [
       "<div>\n",
       "<table border=\"1\" class=\"dataframe\">\n",
       "  <thead>\n",
       "    <tr style=\"text-align: right;\">\n",
       "      <th></th>\n",
       "      <th>y</th>\n",
       "      <th>x1</th>\n",
       "      <th>x2</th>\n",
       "    </tr>\n",
       "  </thead>\n",
       "  <tbody>\n",
       "    <tr>\n",
       "      <th>0</th>\n",
       "      <td>-1</td>\n",
       "      <td>-0.663827</td>\n",
       "      <td>-0.138526</td>\n",
       "    </tr>\n",
       "    <tr>\n",
       "      <th>1</th>\n",
       "      <td>1</td>\n",
       "      <td>1.994596</td>\n",
       "      <td>2.468025</td>\n",
       "    </tr>\n",
       "    <tr>\n",
       "      <th>2</th>\n",
       "      <td>-1</td>\n",
       "      <td>-1.247395</td>\n",
       "      <td>0.749425</td>\n",
       "    </tr>\n",
       "    <tr>\n",
       "      <th>3</th>\n",
       "      <td>1</td>\n",
       "      <td>2.309374</td>\n",
       "      <td>1.899836</td>\n",
       "    </tr>\n",
       "    <tr>\n",
       "      <th>4</th>\n",
       "      <td>1</td>\n",
       "      <td>0.849143</td>\n",
       "      <td>2.407750</td>\n",
       "    </tr>\n",
       "  </tbody>\n",
       "</table>\n",
       "</div>"
      ],
      "text/plain": [
       "   y        x1        x2\n",
       "0 -1 -0.663827 -0.138526\n",
       "1  1  1.994596  2.468025\n",
       "2 -1 -1.247395  0.749425\n",
       "3  1  2.309374  1.899836\n",
       "4  1  0.849143  2.407750"
      ]
     },
     "execution_count": 3,
     "metadata": {},
     "output_type": "execute_result"
    }
   ],
   "source": [
    "data.head()"
   ]
  },
  {
   "cell_type": "code",
   "execution_count": 4,
   "metadata": {
    "collapsed": true
   },
   "outputs": [],
   "source": []
  },
  {
   "cell_type": "code",
   "execution_count": 5,
   "metadata": {
    "collapsed": false
   },
   "outputs": [],
   "source": [
    "def grad(old_w, y_i, X_i):\n",
    "    old_w = np.asarray(old_w)\n",
    "    X_i = np.asarray(X_i)\n",
    "    y_i = np.asarray(y_i)\n",
    "    return k/l * np.dot(X_i.transpose(), (1 - 1/(1 + np.exp(- y_i * np.dot(X_i, old_w) )))*y_i) - k * C * old_w\n",
    "    #return old_w + k/l * sum(y_i * X_i * (1 - 1/(1 + exp( - y_i * np.dot(old_w.reshape(len(X_i),), X_i))))) - k * C * old_w"
   ]
  },
  {
   "cell_type": "code",
   "execution_count": 42,
   "metadata": {
    "collapsed": true
   },
   "outputs": [],
   "source": [
    "y = np.asarray(data.y)\n",
    "X = np.asarray(zip(data.x1, data.x2))\n",
    "w = np.array([0, 0])\n",
    "\n",
    "k = 0.5\n",
    "C = 10\n",
    "l = len(y)\n",
    "new_w = w + grad(w, y, X)\n",
    "e_s = np.linalg.norm(new_w-w)\n",
    "while e_s > 0.00005:\n",
    "    g = grad(w, y, X)\n",
    "    new_w = w + g\n",
    "    e_s = np.linalg.norm(new_w-w)\n",
    "    w = new_w\n",
    "    \n",
    "my_y = 1/(1+np.exp(-np.dot(X, w)))\n",
    "ra1 = round(roc_auc_score(y, my_y), 3)\n",
    "C = 0\n",
    "new_w = w + grad(w, y, X)\n",
    "e_s = np.linalg.norm(new_w-w)\n",
    "while e_s > 0.00005:\n",
    "    g = grad(w, y, X)\n",
    "    new_w = w + g\n",
    "    e_s = np.linalg.norm(new_w-w)\n",
    "    w = new_w\n",
    "    \n",
    "my_y = 1/(1+np.exp(-np.dot(X, w)))\n",
    "ra = round(roc_auc_score(y, my_y), 3)"
   ]
  },
  {
   "cell_type": "code",
   "execution_count": 40,
   "metadata": {
    "collapsed": true
   },
   "outputs": [],
   "source": [
    "\n",
    "with open('ans3', 'w') as f:\n",
    "    f.write(str(ra) + ' ' + str(ra1))"
   ]
  },
  {
   "cell_type": "code",
   "execution_count": 41,
   "metadata": {
    "collapsed": false
   },
   "outputs": [
    {
     "name": "stdout",
     "output_type": "stream",
     "text": [
      "0.927 0.936\n"
     ]
    }
   ],
   "source": [
    "!less ans3"
   ]
  },
  {
   "cell_type": "code",
   "execution_count": 53,
   "metadata": {
    "collapsed": false
   },
   "outputs": [
    {
     "data": {
      "text/plain": [
       "0.936"
      ]
     },
     "execution_count": 53,
     "metadata": {},
     "output_type": "execute_result"
    }
   ],
   "source": [
    "y = np.asarray(data.y)\n",
    "X = np.asarray(zip(data.x1, data.x2))\n",
    "w = np.array([0, 0])\n",
    "\n",
    "k = 0.001\n",
    "C = 10\n",
    "l = len(y)\n",
    "new_w = w + grad(w, y, X)\n",
    "e_s = np.linalg.norm(new_w-w)\n",
    "while e_s > 0.00005:\n",
    "    g = grad(w, y, X)\n",
    "    new_w = w + g\n",
    "    e_s = np.linalg.norm(new_w-w)\n",
    "    w = new_w\n",
    "    \n",
    "my_y = 1/(1+np.exp(-np.dot(X, w)))\n",
    "ra1 = round(roc_auc_score(y, my_y), 3)\n",
    "ra1"
   ]
  },
  {
   "cell_type": "code",
   "execution_count": 193,
   "metadata": {
    "collapsed": false
   },
   "outputs": [
    {
     "data": {
      "image/png": "[encoded data removed]",
      "text/plain": [
       "<matplotlib.figure.Figure at 0xa654160>"
      ]
     },
     "metadata": {},
     "output_type": "display_data"
    }
   ],
   "source": [
    "import matplotlib.pyplot as plt\n",
    "%matplotlib inline\n",
    "data0 = data[data.y == -1]\n",
    "data1 = data[data.y == 1]\n",
    "l0 = plt.scatter(data0.x1, data0.x2, color='red')\n",
    "l1 = plt.scatter(data1.x1, data1.x2)\n",
    "\n",
    "plt.show()"
   ]
  }
 ],
 "metadata": {
  "kernelspec": {
   "display_name": "Python 2",
   "language": "python",
   "name": "python2"
  },
  "language_info": {
   "codemirror_mode": {
    "name": "ipython",
    "version": 2
   },
   "file_extension": ".py",
   "mimetype": "text/x-python",
   "name": "python",
   "nbconvert_exporter": "python",
   "pygments_lexer": "ipython2",
   "version": "2.7.11"
  }
 },
 "nbformat": 4,
 "nbformat_minor": 0
}
